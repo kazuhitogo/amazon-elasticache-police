{
 "cells": [
  {
   "cell_type": "code",
   "execution_count": null,
   "metadata": {},
   "outputs": [],
   "source": [
    "import boto3, sagemaker\n",
    "from sagemaker.processing import ScriptProcessor, ProcessingOutput\n",
    "from sagemaker.tensorflow import TensorFlow\n",
    "import numpy as np\n",
    "from matplotlib import pyplot as plt\n",
    "from PIL import Image\n",
    "\n",
    "bucket = sagemaker.session.Session().default_bucket()\n",
    "role = sagemaker.get_execution_role()\n",
    "print(bucket)\n",
    "print(role)"
   ]
  },
  {
   "cell_type": "markdown",
   "metadata": {},
   "source": [
    "## 学習データ作成\n",
    "### データ作成用コンテナイメージのビルド\n",
    "* Pillow を入れるためにBYOC\n",
    "* SageMaker Processing で動かす"
   ]
  },
  {
   "cell_type": "code",
   "execution_count": null,
   "metadata": {
    "scrolled": true
   },
   "outputs": [],
   "source": [
    "image_name = 'amazon-elasticache-police-generate-image'\n",
    "tag = ':1'\n",
    "%cd ./docker/make_image_container\n",
    "!docker rmi -f $(docker images -a -q)\n",
    "!docker build -t {image_name}{tag} .\n",
    "%cd ../../"
   ]
  },
  {
   "cell_type": "markdown",
   "metadata": {},
   "source": [
    "## イメージをECRへ"
   ]
  },
  {
   "cell_type": "code",
   "execution_count": null,
   "metadata": {
    "scrolled": true
   },
   "outputs": [],
   "source": [
    "account_id = boto3.client('sts').get_caller_identity().get('Account')\n",
    "region = boto3.session.Session().region_name\n",
    "ecr_endpoint = f'{account_id}.dkr.ecr.{region}.amazonaws.com/' \n",
    "repository_uri = f'{ecr_endpoint}{image_name}'\n",
    "image_uri = f'{repository_uri}{tag}'\n",
    "\n",
    "# ECR ログイン\n",
    "!aws ecr get-login-password --region {region} | docker login --username AWS --password-stdin {ecr_endpoint}\n",
    "\n",
    "!docker tag {image_name}{tag} {image_uri}\n",
    "\n",
    "# 同名のリポジトリがあった場合は削除\n",
    "!aws ecr delete-repository --repository-name $image_name --force\n",
    "# リポジトリを作成\n",
    "!aws ecr create-repository --repository-name $image_name\n",
    "# イメージをプッシュ\n",
    "!docker push {image_uri}"
   ]
  },
  {
   "cell_type": "markdown",
   "metadata": {},
   "source": [
    "### 学習データ作成"
   ]
  },
  {
   "cell_type": "code",
   "execution_count": null,
   "metadata": {},
   "outputs": [],
   "source": [
    "processing_input_dir = '/opt/ml/processing/input'\n",
    "processing_output_dir = '/opt/ml/processing/generated_image'\n",
    "job_name = 'generate-image'"
   ]
  },
  {
   "cell_type": "code",
   "execution_count": null,
   "metadata": {},
   "outputs": [],
   "source": [
    "processor = ScriptProcessor(base_job_name=job_name,\n",
    "                            image_uri=image_uri,\n",
    "                            command=['python3'],\n",
    "                            role=role,\n",
    "                            instance_count=1,\n",
    "                            instance_type='ml.c5.xlarge'\n",
    "                           )"
   ]
  },
  {
   "cell_type": "code",
   "execution_count": null,
   "metadata": {},
   "outputs": [],
   "source": [
    "processor.run(code='./src/generate_image.py',\n",
    "              outputs=[ProcessingOutput(output_name='output',source=processing_output_dir)],\n",
    "              arguments=[\n",
    "                  '--output-dir',processing_output_dir,\n",
    "                  '--check-names','Amazon ElastiCache/Amazon ElasticCache'\n",
    "              ]\n",
    "             )"
   ]
  },
  {
   "cell_type": "markdown",
   "metadata": {},
   "source": [
    "### 生成した学習データ確認"
   ]
  },
  {
   "cell_type": "code",
   "execution_count": null,
   "metadata": {},
   "outputs": [],
   "source": [
    "# 学習データの S3 URI を取得\n",
    "processor_description = processor.jobs[-1].describe()\n",
    "generate_data_s3_uri = processor_description['ProcessingOutputConfig']['Outputs'][0]['S3Output']['S3Uri']"
   ]
  },
  {
   "cell_type": "code",
   "execution_count": null,
   "metadata": {},
   "outputs": [],
   "source": [
    "!aws s3 cp {generate_data_s3_uri}/train_X.npy ./\n",
    "!aws s3 cp {generate_data_s3_uri}/train_y.npy ./"
   ]
  },
  {
   "cell_type": "code",
   "execution_count": null,
   "metadata": {},
   "outputs": [],
   "source": [
    "train_X = np.load('./train_X.npy')\n",
    "train_y = np.load('./train_y.npy')\n",
    "# plt.imshow(train_X[0,:,:,0],'gray')\n",
    "# print(train_y[0])"
   ]
  },
  {
   "cell_type": "code",
   "execution_count": null,
   "metadata": {},
   "outputs": [],
   "source": [
    "train_X.shape,train_y.shape"
   ]
  },
  {
   "cell_type": "code",
   "execution_count": null,
   "metadata": {
    "scrolled": true
   },
   "outputs": [],
   "source": [
    "rows = 10\n",
    "cols = 1\n",
    "axes=[]\n",
    "fig=plt.figure(figsize=(70,10))\n",
    "\n",
    "for a in range(rows*cols):\n",
    "    i = np.random.randint(0,train_X.shape[0])\n",
    "    axes.append( fig.add_subplot(rows, cols, a+1) )\n",
    "    subplot_title='alert' if train_y[i]==1 else 'No Problem'\n",
    "    axes[-1].set_title(subplot_title)  \n",
    "    plt.imshow(train_X[i,:,:],'gray')\n",
    "fig.tight_layout()    \n",
    "plt.show()"
   ]
  },
  {
   "cell_type": "markdown",
   "metadata": {},
   "source": [
    "## 学習"
   ]
  },
  {
   "cell_type": "code",
   "execution_count": null,
   "metadata": {},
   "outputs": [],
   "source": [
    "estimator = TensorFlow(\n",
    "    entry_point='./src/train.py',\n",
    "    role=role,\n",
    "    instance_count=1,\n",
    "    instance_type='ml.g4dn.xlarge',\n",
    "    framework_version='2.4',\n",
    "    py_version='py37',\n",
    "    hyperparameters={\n",
    "        \"epochs\": 30\n",
    "    },\n",
    ")"
   ]
  },
  {
   "cell_type": "code",
   "execution_count": null,
   "metadata": {},
   "outputs": [],
   "source": [
    "estimator.fit({'train': generate_data_s3_uri})"
   ]
  },
  {
   "cell_type": "code",
   "execution_count": null,
   "metadata": {},
   "outputs": [],
   "source": [
    "# trainingに使用したコンテナイメージ確認\n",
    "print(estimator.latest_training_job.describe()['AlgorithmSpecification']['TrainingImage'])"
   ]
  },
  {
   "cell_type": "markdown",
   "metadata": {},
   "source": [
    "## 推論\n",
    "### SageMaker Hosting の場合"
   ]
  },
  {
   "cell_type": "code",
   "execution_count": null,
   "metadata": {},
   "outputs": [],
   "source": [
    "predictor = estimator.deploy(\n",
    "    instance_type='ml.m5.xlarge',\n",
    "    initial_instance_count=1\n",
    ")"
   ]
  },
  {
   "cell_type": "markdown",
   "metadata": {},
   "source": [
    "#### 綴があっている画像\n",
    "No Problem と出力されればモデルが正解を返している"
   ]
  },
  {
   "cell_type": "code",
   "execution_count": null,
   "metadata": {},
   "outputs": [],
   "source": [
    "true_arr=((np.array(Image.open('./test_data/AmazonElastiCache_ZenjidoJP-FeltPenLMT-TTF.ttf0.png'))-127.5)/127.5).reshape(1,50,700,1)\n",
    "print('No Problem') if predictor.predict(true_arr.tolist())['predictions'][0][0] < 0.5 else print('Alert!!')\n",
    "Image.open('./test_data/AmazonElastiCache_ZenjidoJP-FeltPenLMT-TTF.ttf0.png')"
   ]
  },
  {
   "cell_type": "markdown",
   "metadata": {},
   "source": [
    "#### 綴が誤っている画像\n",
    "Alert と出力されればモデルが正解を返している"
   ]
  },
  {
   "cell_type": "code",
   "execution_count": null,
   "metadata": {},
   "outputs": [],
   "source": [
    "false_arr = ((np.array(Image.open('./test_data/AmazonElasticCache_ZenjidoJP-FeltPenLMT-TTF.ttf0.png'))-127.5)/127.5).reshape(1,50,700,1)\n",
    "print('No Problem') if predictor.predict(false_arr.tolist())['predictions'][0][0] < 0.5 else print('Alert!!')\n",
    "Image.open('./test_data/AmazonElasticCache_ZenjidoJP-FeltPenLMT-TTF.ttf0.png')"
   ]
  },
  {
   "cell_type": "code",
   "execution_count": null,
   "metadata": {},
   "outputs": [],
   "source": [
    "predictor.delete_endpoint()"
   ]
  },
  {
   "cell_type": "code",
   "execution_count": null,
   "metadata": {},
   "outputs": [],
   "source": []
  }
 ],
 "metadata": {
  "instance_type": "ml.t3.medium",
  "kernelspec": {
   "display_name": "conda_amazonei_tensorflow2_p36",
   "language": "python",
   "name": "conda_amazonei_tensorflow2_p36"
  },
  "language_info": {
   "codemirror_mode": {
    "name": "ipython",
    "version": 3
   },
   "file_extension": ".py",
   "mimetype": "text/x-python",
   "name": "python",
   "nbconvert_exporter": "python",
   "pygments_lexer": "ipython3",
   "version": "3.6.13"
  }
 },
 "nbformat": 4,
 "nbformat_minor": 4
}
