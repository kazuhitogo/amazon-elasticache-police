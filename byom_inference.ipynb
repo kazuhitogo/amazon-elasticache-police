{
 "cells": [
  {
   "cell_type": "code",
   "execution_count": null,
   "id": "5f439807",
   "metadata": {
    "scrolled": true
   },
   "outputs": [],
   "source": [
    "!pip install icecream"
   ]
  },
  {
   "cell_type": "code",
   "execution_count": null,
   "id": "7f75df6d",
   "metadata": {},
   "outputs": [],
   "source": [
    "import sagemaker\n",
    "import boto3\n",
    "from icecream import ic\n",
    "from PIL import Image\n",
    "import numpy as np\n",
    "import json\n",
    "\n",
    "sm_client = boto3.client('sagemaker')\n",
    "smr_client = boto3.client('sagemaker-runtime')\n",
    "SOURCE_BUCKET_NAME = 'amazon-elasticache-police'\n",
    "TARGET_BUCKET_NAME = sagemaker.session.Session().default_bucket()\n",
    "PREFIX = 'amazon_elasticache_police/'\n",
    "MODEL_TAR_NAME = 'amazon-elasticache-police-model.tar.gz'\n",
    "MODEL_S3_URI = f's3://{TARGET_BUCKET_NAME}/{PREFIX}{MODEL_TAR_NAME}'\n",
    "REGION_NAME = sagemaker.session.Session().boto_region_name\n",
    "CONTAINER_URI = sagemaker.image_uris.retrieve(\n",
    "    framework='tensorflow',\n",
    "    region=REGION_NAME,version='2.4.1',\n",
    "    image_scope='inference',\n",
    "    instance_type='ml.c5.4xlarge'\n",
    ")\n",
    "SM_ROLE_ARN = sagemaker.get_execution_role()\n",
    "ic(SOURCE_BUCKET_NAME)\n",
    "ic(TARGET_BUCKET_NAME)\n",
    "ic(PREFIX)\n",
    "ic(MODEL_TAR_NAME)\n",
    "ic(MODEL_S3_URI)\n",
    "ic(REGION_NAME)\n",
    "ic(CONTAINER_URI)\n",
    "ic(SM_ROLE_ARN)"
   ]
  },
  {
   "cell_type": "code",
   "execution_count": null,
   "id": "58ced472",
   "metadata": {},
   "outputs": [],
   "source": [
    "# モデルを自分のアカウントのバケットにコピー\n",
    "!aws s3 cp s3://{SOURCE_BUCKET_NAME}/{MODEL_TAR_NAME} {MODEL_S3_URI}"
   ]
  },
  {
   "cell_type": "code",
   "execution_count": null,
   "id": "5c10503e",
   "metadata": {},
   "outputs": [],
   "source": [
    "MODEL_NAME = 'ElastiCachePoliceModel'\n",
    "response = sm_client.create_model(\n",
    "    ModelName=MODEL_NAME, # モデルの任意の名前\n",
    "    PrimaryContainer={\n",
    "        'Image': CONTAINER_URI, # コンテナの URI\n",
    "        'ModelDataUrl': MODEL_S3_URI, # モデルの URI\n",
    "    },\n",
    "    ExecutionRoleArn=SM_ROLE_ARN, # ロールの ARN\n",
    ")\n",
    "print(response)"
   ]
  },
  {
   "cell_type": "code",
   "execution_count": null,
   "id": "72e8057a",
   "metadata": {},
   "outputs": [],
   "source": [
    "ENDPOINT_CONFIG_NAME = 'ElastiCachePoliceEndpointConfig'\n",
    "response = sm_client.create_endpoint_config(\n",
    "    EndpointConfigName=ENDPOINT_CONFIG_NAME,\n",
    "    ProductionVariants=[\n",
    "        {\n",
    "            'VariantName': 'AllTrafic',\n",
    "            'ModelName': MODEL_NAME,\n",
    "            'InitialInstanceCount': 1,\n",
    "            'InstanceType': 'ml.m5.large',\n",
    "        },\n",
    "    ],\n",
    ")\n",
    "print(response)"
   ]
  },
  {
   "cell_type": "code",
   "execution_count": null,
   "id": "da2cfc36",
   "metadata": {},
   "outputs": [],
   "source": [
    "ENDPOINT_NAME='ElastiCachePoliceEndpoint'\n",
    "response = sm_client.create_endpoint(\n",
    "    EndpointName=ENDPOINT_NAME,\n",
    "    EndpointConfigName=ENDPOINT_CONFIG_NAME,\n",
    ")\n",
    "print(response)\n",
    "waiter = sm_client.get_waiter('endpoint_in_service')\n",
    "waiter.wait(EndpointName=ENDPOINT_NAME)"
   ]
  },
  {
   "cell_type": "code",
   "execution_count": null,
   "id": "97d13243",
   "metadata": {},
   "outputs": [],
   "source": [
    "img = Image.open('./test_data/AmazonElastiCache_ZenjidoJP-FeltPenLMT-TTF.ttf0.png')\n",
    "no_problem_arr=((np.array(img)-127.5)/127.5).reshape(1,50,700,1)\n",
    "img"
   ]
  },
  {
   "cell_type": "code",
   "execution_count": null,
   "id": "a372c64a",
   "metadata": {},
   "outputs": [],
   "source": [
    "request_args = {\n",
    "    'EndpointName': ENDPOINT_NAME,\n",
    "    'ContentType' : 'application/json',\n",
    "    'Accept' : 'application/json',\n",
    "    'Body' : json.dumps({\n",
    "        'instances':no_problem_arr.tolist()\n",
    "    })\n",
    "}\n",
    "response = smr_client.invoke_endpoint(**request_args)\n",
    "prediction_score=json.loads(response['Body'].read().decode('utf-8'))['predictions'][0][0]\n",
    "ic(prediction_score)\n",
    "print('alert') if prediction_score >= 0.5 else print('No Problem')"
   ]
  },
  {
   "cell_type": "code",
   "execution_count": null,
   "id": "cc6be652",
   "metadata": {},
   "outputs": [],
   "source": [
    "img = Image.open('./test_data/AmazonElasticCache_ZenjidoJP-FeltPenLMT-TTF.ttf0.png')\n",
    "alert_arr = ((np.array(img)-127.5)/127.5).reshape(1,50,700,1)\n",
    "img"
   ]
  },
  {
   "cell_type": "code",
   "execution_count": null,
   "id": "d938c350",
   "metadata": {},
   "outputs": [],
   "source": [
    "request_args = {\n",
    "    'EndpointName': ENDPOINT_NAME,\n",
    "    'ContentType' : 'application/json',\n",
    "    'Accept' : 'application/json',\n",
    "    'Body' : str(alert_arr.tolist())\n",
    "}\n",
    "response = smr_client.invoke_endpoint(**request_args)\n",
    "prediction_score=json.loads(response['Body'].read().decode('utf-8'))['predictions'][0][0]\n",
    "ic(prediction_score)\n",
    "print('alert') if prediction_score >= 0.5 else print('No Problem')"
   ]
  },
  {
   "cell_type": "code",
   "execution_count": null,
   "id": "1e155fba",
   "metadata": {},
   "outputs": [],
   "source": [
    "MODEL_NAME = 'ElastiCachePoliceModel'\n",
    "ENDPOINT_CONFIG_NAME = 'ElastiCachePoliceEndpointConfig'\n",
    "ENDPOINT_NAME='ElastiCachePoliceEndpoint'\n",
    "response = sm_client.delete_endpoint(EndpointName=ENDPOINT_NAME)\n",
    "print(response)\n",
    "response = sm_client.delete_endpoint_config(EndpointConfigName=ENDPOINT_CONFIG_NAME)\n",
    "print(response)\n",
    "response = sm_client.delete_model(ModelName=MODEL_NAME)\n",
    "print(response)"
   ]
  },
  {
   "cell_type": "code",
   "execution_count": null,
   "id": "71b2bbcc",
   "metadata": {},
   "outputs": [],
   "source": []
  }
 ],
 "metadata": {
  "kernelspec": {
   "display_name": "conda_python3",
   "language": "python",
   "name": "conda_python3"
  },
  "language_info": {
   "codemirror_mode": {
    "name": "ipython",
    "version": 3
   },
   "file_extension": ".py",
   "mimetype": "text/x-python",
   "name": "python",
   "nbconvert_exporter": "python",
   "pygments_lexer": "ipython3",
   "version": "3.6.13"
  }
 },
 "nbformat": 4,
 "nbformat_minor": 5
}
